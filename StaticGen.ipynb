{
 "cells": [
  {
   "cell_type": "markdown",
   "metadata": {},
   "source": [
    "# Static/Noise GIF Generation\n",
    "\n",
    "This code uses PIL/Image and imageio to generate \"static\" or completely random images such as the one below. This allows for customization of gif size, color pallete, and number of images within. The code works by generating a sequence of blank images and then iterating through each pixel to assign a random color. Combining multiple such images into a gif creates the noise effect. \n",
    "\n",
    "![SegmentLocal](NoiseExample.gif \"Noise\")"
   ]
  },
  {
   "cell_type": "code",
   "execution_count": 40,
   "metadata": {},
   "outputs": [],
   "source": [
    "from PIL import Image\n",
    "import imageio, os, random, numpy"
   ]
  },
  {
   "cell_type": "markdown",
   "metadata": {},
   "source": [
    "###### Set Parameters\n",
    "\n",
    "First, we need to set parameters. There are a few things that can be changed. Primarily, we have control over the dimensions of each image, the color pallete, and the number of images within the gif. \n",
    "\n",
    "* The **bW** parameter will be True to create a black and white image and False for full color. Other combinations are possible via the creation of a list of RGB combinations and then random selection from that list.\n",
    "* The **numImages** parameter indicates the number of static images to create for inclusion in the GIF. \n",
    "* **width** and **height** come together to create the **dim** tuple that is passed through the Image module."
   ]
  },
  {
   "cell_type": "code",
   "execution_count": 49,
   "metadata": {},
   "outputs": [],
   "source": [
    "bW = False\n",
    "numImages = 20\n",
    "width = 400\n",
    "height = 600\n",
    "dim = (width, height)\n"
    "path = \"C:\\Users\\...\\staticgif\\\""
   ]
  },
  {
   "cell_type": "markdown",
   "metadata": {},
   "source": [
    "###### Generate Images\n",
    "\n",
    "Now that parameters are set, we need to create a series of image objects and save them locally. We will accomplish this using the Image module and then looping through each pixel to assign random values depending on the pallete selected.\n",
    "\n",
    "**First, we need to create a function that returns a random color in the form of an RGB code as a tuple.** We can see that a quick call of the function generates the code (64,64,96), which is a shade of purple."
   ]
  },
  {
   "cell_type": "code",
   "execution_count": 42,
   "metadata": {},
   "outputs": [
    {
     "data": {
      "text/plain": [
       "(224, 96, 32)"
      ]
     },
     "execution_count": 42,
     "metadata": {},
     "output_type": "execute_result"
    }
   ],
   "source": [
    "def random_color(): \n",
    "    levels = range(32, 256, 32)\n",
    "    return tuple(random.choice(levels) for _ in range(3))\n",
    "\n",
    "random_color()"
   ]
  },
  {
   "cell_type": "markdown",
   "metadata": {},
   "source": [
    "Now that we have a function to generate random colors, we just need to create the images and save them locally. Remember that the image creation will only use the random_color() function if bW == False. Otherwise, we will use the codes for black (0,0,0) and white (255,255,255) and select randomly between them."
   ]
  },
  {
   "cell_type": "code",
   "execution_count": 47,
   "metadata": {},
   "outputs": [],
   "source": [
    "i = 1\n",
    "bWcols = [(0,0,0), (250,250,250)]\n",
    "while i <= numImages:\n",
    "    out = Image.new(\"RGB\", dim, \"white\")\n",
    "    \n",
    "    for x in range(width): \n",
    "        for y in range(height): \n",
    "            if bW: \n",
    "                val = numpy.random.uniform(low=0.0, high=1.0, size=None)\n",
    "                if val > 0.5: \n",
    "                    out.putpixel((x,y), bWcols[0])\n",
    "                else: \n",
    "                    out.putpixel((x,y), bWcols[1])\n",
    "            else: \n",
    "                out.putpixel((x,y), random_color())\n",
    "    \n",
    "    # Save the Image\n",
    "    name = 'image' + str(i) + '.png'\n",
    "    out.save(path+name) \n",
    "    i += 1\n",
    "    "
   ]
  },
  {
   "cell_type": "markdown",
   "metadata": {},
   "source": [
    "###### GIF Creation\n",
    "\n",
    "Now that we have generated a list of images in our home directory, all we need to do is use the imageio package to combine them into a gif. "
   ]
  },
  {
   "cell_type": "code",
   "execution_count": 48,
   "metadata": {},
   "outputs": [],
   "source": [
    "# Get a list of files with a .png extension\n",
    "filenames = [i for i in os.listdir(path) if 'png' in i]\n",
    "\n",
    "# Save them to a list called images and pull that list into the imageio process to be saved as a gif\n",
    "images = []\n",
    "for filename in filenames: \n",
    "    images.append(imageio.imread(path+filename))\n",
    "imageio.mimsave(path+'Noise.gif', images)"
   ]
  },
  {
   "cell_type": "markdown",
   "metadata": {},
   "source": [
    "###### Summary\n",
    "\n",
    "Now, all we need to do is view our Gif, which is saved in our home directory. It may be wise to delete the component images which could be done either programatically or manually after execution.\n",
    "\n",
    "You can see the color GIF generated via the process above and also an example of a black and white GIF generated by the same process with bW = True."
   ]
  },
  {
   "cell_type": "markdown",
   "metadata": {},
   "source": [
    "![SegmentLocal](Noise.gif \"NoiseFullColor\")\n",
    "![SegmentLocal](NoiseBW.gif \"NoiseBW\")"
   ]
  }
 ],
 "metadata": {
  "kernelspec": {
   "display_name": "Python 3",
   "language": "python",
   "name": "python3"
  },
  "language_info": {
   "codemirror_mode": {
    "name": "ipython",
    "version": 3
   },
   "file_extension": ".py",
   "mimetype": "text/x-python",
   "name": "python",
   "nbconvert_exporter": "python",
   "pygments_lexer": "ipython3",
   "version": "3.7.0"
  }
 },
 "nbformat": 4,
 "nbformat_minor": 2
}
